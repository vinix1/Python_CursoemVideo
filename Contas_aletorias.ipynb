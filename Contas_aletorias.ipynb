{
  "nbformat": 4,
  "nbformat_minor": 0,
  "metadata": {
    "colab": {
      "name": "Contas_aletorias.ipynb",
      "provenance": [],
      "collapsed_sections": [],
      "authorship_tag": "ABX9TyMoKnjFNxec6wHudrJiRu3L",
      "include_colab_link": true
    },
    "kernelspec": {
      "name": "python3",
      "display_name": "Python 3"
    },
    "language_info": {
      "name": "python"
    }
  },
  "cells": [
    {
      "cell_type": "markdown",
      "metadata": {
        "id": "view-in-github",
        "colab_type": "text"
      },
      "source": [
        "<a href=\"https://colab.research.google.com/github/vinix1/Python_CursoemVideo/blob/main/Contas_aletorias.ipynb\" target=\"_parent\"><img src=\"https://colab.research.google.com/assets/colab-badge.svg\" alt=\"Open In Colab\"/></a>"
      ]
    },
    {
      "cell_type": "code",
      "execution_count": null,
      "metadata": {
        "colab": {
          "base_uri": "https://localhost:8080/"
        },
        "id": "qW9MPZIJvsFQ",
        "outputId": "77513be6-33f5-4b9f-84fa-23072928f939"
      },
      "outputs": [
        {
          "output_type": "execute_result",
          "data": {
            "text/plain": [
              "0.0242631027637202"
            ]
          },
          "metadata": {},
          "execution_count": 5
        }
      ],
      "source": [
        "h = 6.62607015*10**(-34)\n",
        "c = 299792458\n",
        "m = 9.10938356*10**(-31)\n",
        "deltaLambda = h/(m*c)\n",
        "deltaLambda/10**(-10)"
      ]
    },
    {
      "cell_type": "code",
      "source": [
        "bin(34)"
      ],
      "metadata": {
        "id": "zx3wRX9xFq7_",
        "outputId": "828d5e16-4591-414b-995e-291f000e2743",
        "colab": {
          "base_uri": "https://localhost:8080/",
          "height": 35
        }
      },
      "execution_count": null,
      "outputs": [
        {
          "output_type": "execute_result",
          "data": {
            "application/vnd.google.colaboratory.intrinsic+json": {
              "type": "string"
            },
            "text/plain": [
              "'0b100010'"
            ]
          },
          "metadata": {},
          "execution_count": 1
        }
      ]
    }
  ]
}